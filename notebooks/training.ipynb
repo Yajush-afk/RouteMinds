{
 "cells": [
  {
   "cell_type": "code",
   "execution_count": 19,
   "id": "13063b8a",
   "metadata": {},
   "outputs": [],
   "source": [
    "import pandas as pd\n",
    "import numpy as np\n",
    "import matplotlib.pyplot as plt\n",
    "import seaborn as sns\n",
    "from sklearn.ensemble import RandomForestRegressor\n",
    "from sklearn.metrics import mean_absolute_error, mean_squared_error, r2_score\n",
    "import xgboost as xgb\n",
    "import joblib\n",
    "import os\n",
    "import json\n",
    "from sklearn.model_selection import GridSearchCV\n",
    "import gc\n",
    "from sklearn.preprocessing import LabelEncoder\n",
    "import warnings\n",
    "warnings.filterwarnings('ignore')\n",
    "plt.style.use('ggplot')\n",
    "%matplotlib inline"
   ]
  },
  {
   "cell_type": "code",
   "execution_count": 20,
   "id": "f6dfd0ca",
   "metadata": {},
   "outputs": [
    {
     "name": "stdout",
     "output_type": "stream",
     "text": [
      "Initial memory usage: 454.37 MB\n",
      "Memory usage after optimization: 223.13 MB\n",
      "Reduced by 50.9%\n",
      "Initial memory usage: 56.77 MB\n",
      "Memory usage after optimization: 27.88 MB\n",
      "Reduced by 50.9%\n",
      "Initial memory usage: 56.78 MB\n",
      "Memory usage after optimization: 27.88 MB\n",
      "Reduced by 50.9%\n",
      "Train shape: (4253927, 14)\n",
      "Validation shape: (531537, 14)\n",
      "Test shape: (531559, 14)\n"
     ]
    }
   ],
   "source": [
    "#Loading datasets with memory optimization\n",
    "\n",
    "def reduce_memory_usage(df):\n",
    "    \"\"\"Reduce memory usage of DataFrame\"\"\"\n",
    "    start_mem = df.memory_usage().sum() / 1024**2\n",
    "    print(f\"Initial memory usage: {start_mem:.2f} MB\")\n",
    "    \n",
    "    for col in df.columns:\n",
    "        col_type = df[col].dtype\n",
    "        \n",
    "        if col_type != object:\n",
    "            c_min = df[col].min()\n",
    "            c_max = df[col].max()\n",
    "            \n",
    "            if str(col_type)[:3] == 'int':\n",
    "                if c_min > np.iinfo(np.int8).min and c_max < np.iinfo(np.int8).max:\n",
    "                    df[col] = df[col].astype(np.int8)\n",
    "                elif c_min > np.iinfo(np.int16).min and c_max < np.iinfo(np.int16).max:\n",
    "                    df[col] = df[col].astype(np.int16)\n",
    "                elif c_min > np.iinfo(np.int32).min and c_max < np.iinfo(np.int32).max:\n",
    "                    df[col] = df[col].ast(np.int32)\n",
    "                elif c_min > np.iinfo(np.int64).min and c_max < np.iinfo(np.int64).max:\n",
    "                    df[col] = df[col].astype(np.int64)\n",
    "            else:\n",
    "                if c_min > np.finfo(np.float16).min and c_max < np.finfo(np.float16).max:\n",
    "                    df[col] = df[col].astype(np.float16)\n",
    "                elif c_min > np.finfo(np.float32).min and c_max < np.finfo(np.float32).max:\n",
    "                    df[col] = df[col].astype(np.float32)\n",
    "                else:\n",
    "                    df[col] = df[col].astype(np.float64)\n",
    "    \n",
    "    end_mem = df.memory_usage().sum() / 1024**2\n",
    "    print(f\"Memory usage after optimization: {end_mem:.2f} MB\")\n",
    "    print(f\"Reduced by {100 * (start_mem - end_mem) / start_mem:.1f}%\")\n",
    "    \n",
    "    return df\n",
    "\n",
    "train_df = reduce_memory_usage(pd.read_csv('../data/processed/train.csv'))\n",
    "val_df = reduce_memory_usage(pd.read_csv('../data/processed/val.csv'))\n",
    "test_df = reduce_memory_usage(pd.read_csv('../data/processed/test.csv'))\n",
    "\n",
    "print(f\"Train shape: {train_df.shape}\")\n",
    "print(f\"Validation shape: {val_df.shape}\")\n",
    "print(f\"Test shape: {test_df.shape}\")"
   ]
  },
  {
   "cell_type": "code",
   "execution_count": 21,
   "id": "15233f16",
   "metadata": {},
   "outputs": [
    {
     "name": "stdout",
     "output_type": "stream",
     "text": [
      "Sampling 50000 records for training\n",
      "Initial memory usage: 3.00 MB\n",
      "Memory usage after optimization: 3.00 MB\n",
      "Reduced by 0.0%\n",
      "Initial memory usage: 0.60 MB\n",
      "Memory usage after optimization: 0.60 MB\n",
      "Reduced by 0.0%\n",
      "Initial memory usage: 0.60 MB\n",
      "Memory usage after optimization: 0.60 MB\n",
      "Reduced by 0.0%\n"
     ]
    }
   ],
   "source": [
    "SAMPLE_SIZE = 50000  #adjusting based on memory cap\n",
    "if len(train_df) > SAMPLE_SIZE:\n",
    "    print(f\"Sampling {SAMPLE_SIZE} records for training\")\n",
    "    train_df = train_df.sample(SAMPLE_SIZE, random_state=42)\n",
    "    val_df = val_df.sample(min(SAMPLE_SIZE//5, len(val_df)), random_state=42)\n",
    "    test_df = test_df.sample(min(SAMPLE_SIZE//5, len(test_df)), random_state=42)\n",
    "\n",
    "train_df = reduce_memory_usage(train_df)\n",
    "val_df = reduce_memory_usage(val_df)\n",
    "test_df = reduce_memory_usage(test_df)"
   ]
  },
  {
   "cell_type": "code",
   "execution_count": 22,
   "id": "6e7e575e",
   "metadata": {},
   "outputs": [
    {
     "name": "stdout",
     "output_type": "stream",
     "text": [
      "Feature shapes - Train: (50000, 7), Val: (10000, 7), Test: (10000, 7)\n"
     ]
    }
   ],
   "source": [
    "le = LabelEncoder()\n",
    "train_df['route_encoded'] = le.fit_transform(train_df['route_short_name'].astype(str))\n",
    "val_df['route_encoded'] = le.transform(val_df['route_short_name'].astype(str))\n",
    "test_df['route_encoded'] = le.transform(test_df['route_short_name'].astype(str))\n",
    "\n",
    "#saving the encodder\n",
    "joblib.dump(le, '../backend/models/route_label_encoder.pkl')\n",
    "\n",
    "feature_columns = [\n",
    "    'route_encoded', 'stop_sequence', 'day_of_week', \n",
    "    'hour_of_day', 'holiday_flag', 'stop_lat', 'stop_lon'\n",
    "]\n",
    "\n",
    "X_train = train_df[feature_columns].copy()\n",
    "y_train = train_df['delay_minutes'].copy()\n",
    "\n",
    "X_val = val_df[feature_columns].copy()\n",
    "y_val = val_df['delay_minutes'].copy()\n",
    "\n",
    "X_test = test_df[feature_columns].copy()\n",
    "y_test = test_df['delay_minutes'].copy()\n",
    "\n",
    "print(f\"Feature shapes - Train: {X_train.shape}, Val: {X_val.shape}, Test: {X_test.shape}\")"
   ]
  },
  {
   "cell_type": "code",
   "execution_count": 23,
   "id": "6374700d",
   "metadata": {},
   "outputs": [
    {
     "name": "stdout",
     "output_type": "stream",
     "text": [
      "Random Forest training completed!\n",
      "Random Forest - MAE: 7.47, MSE: 74.61, R2: -0.00\n"
     ]
    },
    {
     "name": "stderr",
     "output_type": "stream",
     "text": [
      "[Parallel(n_jobs=-1)]: Using backend ThreadingBackend with 16 concurrent workers.\n",
      "[Parallel(n_jobs=-1)]: Done  30 out of  30 | elapsed:    0.1s finished\n",
      "[Parallel(n_jobs=16)]: Using backend ThreadingBackend with 16 concurrent workers.\n",
      "[Parallel(n_jobs=16)]: Done  30 out of  30 | elapsed:    0.0s finished\n"
     ]
    }
   ],
   "source": [
    "#random forest training\n",
    "\n",
    "rf_model = RandomForestRegressor(\n",
    "    n_estimators=30,           \n",
    "    max_depth=10,           \n",
    "    min_samples_split=5,\n",
    "    min_samples_leaf=2, \n",
    "    max_features='sqrt',\n",
    "    random_state=42,\n",
    "    n_jobs=-1,\n",
    "    verbose=1\n",
    ")\n",
    "\n",
    "rf_model.fit(X_train, y_train)\n",
    "print(\"Random Forest training completed!\")\n",
    "\n",
    "y_val_pred_rf = rf_model.predict(X_val)\n",
    "mae_rf = mean_absolute_error(y_val, y_val_pred_rf)\n",
    "mse_rf = mean_squared_error(y_val, y_val_pred_rf)\n",
    "r2_rf = r2_score(y_val, y_val_pred_rf)\n",
    "\n",
    "print(f\"Random Forest - MAE: {mae_rf:.2f}, MSE: {mse_rf:.2f}, R2: {r2_rf:.2f}\")"
   ]
  },
  {
   "cell_type": "code",
   "execution_count": 24,
   "id": "704a7eab",
   "metadata": {},
   "outputs": [
    {
     "name": "stdout",
     "output_type": "stream",
     "text": [
      "XGBoost training completed!\n",
      "XGBoost - MAE: 7.47, MSE: 74.65, R2: -0.00\n"
     ]
    }
   ],
   "source": [
    "#xgboost\n",
    "\n",
    "xgb_model = xgb.XGBRegressor(\n",
    "    n_estimators=50,         \n",
    "    learning_rate=0.1, \n",
    "    max_depth=6,               \n",
    "    subsample=0.8,             \n",
    "    colsample_bytree=0.8,      \n",
    "    random_state=42,\n",
    "    n_jobs=-1,\n",
    "    verbosity=1\n",
    ")\n",
    "\n",
    "xgb_model.fit(X_train, y_train)\n",
    "print(\"XGBoost training completed!\")\n",
    "\n",
    "y_val_pred_xgb = xgb_model.predict(X_val)\n",
    "mae_xgb = mean_absolute_error(y_val, y_val_pred_xgb)\n",
    "mse_xgb = mean_squared_error(y_val, y_val_pred_xgb)\n",
    "r2_xgb = r2_score(y_val, y_val_pred_xgb)\n",
    "\n",
    "print(f\"XGBoost - MAE: {mae_xgb:.2f}, MSE: {mse_xgb:.2f}, R2: {r2_xgb:.2f}\")"
   ]
  },
  {
   "cell_type": "code",
   "execution_count": 26,
   "id": "639cefde",
   "metadata": {},
   "outputs": [
    {
     "name": "stdout",
     "output_type": "stream",
     "text": [
      "Selected Random Forest as the best model\n",
      "Best model (RandomForest) on Test set - MAE: 7.56, MSE: 75.99, R2: -0.00\n"
     ]
    },
    {
     "name": "stderr",
     "output_type": "stream",
     "text": [
      "[Parallel(n_jobs=16)]: Using backend ThreadingBackend with 16 concurrent workers.\n",
      "[Parallel(n_jobs=16)]: Done  30 out of  30 | elapsed:    0.0s finished\n"
     ]
    }
   ],
   "source": [
    "#comparing\n",
    "if mae_rf < mae_xgb:\n",
    "    best_model = rf_model\n",
    "    best_model_name = \"RandomForest\"\n",
    "    print(\"Selected Random Forest as the best model\")\n",
    "else:\n",
    "    best_model = xgb_model\n",
    "    best_model_name = \"XGBoost\"\n",
    "    print(\"Selected XGBoost as the best model\")\n",
    "\n",
    "# Evaluate on test set\n",
    "y_test_pred = best_model.predict(X_test)\n",
    "mae_test = mean_absolute_error(y_test, y_test_pred)\n",
    "mse_test = mean_squared_error(y_test, y_test_pred)\n",
    "r2_test = r2_score(y_test, y_test_pred)\n",
    "\n",
    "print(f\"Best model ({best_model_name}) on Test set - MAE: {mae_test:.2f}, MSE: {mse_test:.2f}, R2: {r2_test:.2f}\")"
   ]
  },
  {
   "cell_type": "code",
   "execution_count": 27,
   "id": "70aa91a4",
   "metadata": {},
   "outputs": [
    {
     "data": {
      "image/png": "[encoded data removed]",
      "text/plain": [
       "<Figure size 1000x600 with 1 Axes>"
      ]
     },
     "metadata": {},
     "output_type": "display_data"
    }
   ],
   "source": [
    "plt.figure(figsize=(10, 6))\n",
    "feature_importance = best_model.feature_importances_\n",
    "feature_names = ['Route', 'Stop Sequence', 'Day of Week', 'Hour of Day', \n",
    "                 'Holiday Flag', 'Latitude', 'Longitude']\n",
    "\n",
    "importance_series = pd.Series(feature_importance, index=feature_names)\n",
    "importance_series.sort_values(ascending=True).plot(kind='barh')\n",
    "plt.title('Feature Importances')\n",
    "plt.tight_layout()\n",
    "plt.savefig('../notebooks/feature_importance.png', dpi=100, bbox_inches='tight')\n",
    "plt.show()"
   ]
  },
  {
   "cell_type": "code",
   "execution_count": 28,
   "id": "987b1ec6",
   "metadata": {},
   "outputs": [
    {
     "name": "stdout",
     "output_type": "stream",
     "text": [
      "Model saved to ../backend/models/trained_model.pkl\n"
     ]
    }
   ],
   "source": [
    "#saving training model\n",
    "model_path = '../backend/models/trained_model.pkl'\n",
    "joblib.dump(best_model, model_path)\n",
    "\n",
    "model_metadata = {\n",
    "    'model_type': best_model_name,\n",
    "    'feature_columns': feature_columns,\n",
    "    'feature_names': feature_names,\n",
    "    'label_encoder_classes': le.classes_.tolist(),\n",
    "    'performance': {\n",
    "        'test_mae': mae_test,\n",
    "        'test_mse': mse_test,\n",
    "        'test_r2': r2_test\n",
    "    }\n",
    "}\n",
    "\n",
    "with open('../backend/models/model_metadata.json', 'w') as f:\n",
    "    json.dump(model_metadata, f, indent=4)\n",
    "\n",
    "print(f\"Model saved to {model_path}\")"
   ]
  },
  {
   "cell_type": "code",
   "execution_count": null,
   "id": "df100491",
   "metadata": {},
   "outputs": [],
   "source": []
  }
 ],
 "metadata": {
  "kernelspec": {
   "display_name": "route_ai",
   "language": "python",
   "name": "python3"
  },
  "language_info": {
   "codemirror_mode": {
    "name": "ipython",
    "version": 3
   },
   "file_extension": ".py",
   "mimetype": "text/x-python",
   "name": "python",
   "nbconvert_exporter": "python",
   "pygments_lexer": "ipython3",
   "version": "3.11.13"
  }
 },
 "nbformat": 4,
 "nbformat_minor": 5
}
